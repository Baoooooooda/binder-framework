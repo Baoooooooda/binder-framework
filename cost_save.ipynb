{
 "cells": [
  {
   "cell_type": "markdown",
   "id": "b3c7ce25",
   "metadata": {},
   "source": [
    "# Milestone Project for TDI Onboarding"
   ]
  },
  {
   "cell_type": "code",
   "execution_count": 1,
   "id": "6617071e",
   "metadata": {},
   "outputs": [
    {
     "name": "stdout",
     "output_type": "stream",
     "text": [
      "--2022-05-23 18:13:00--  https://data.cityofnewyork.us/resource/bug8-9f3g.csv\n",
      "Resolving data.cityofnewyork.us (data.cityofnewyork.us)... 52.206.140.199, 52.206.68.26, 52.206.140.205\n",
      "Connecting to data.cityofnewyork.us (data.cityofnewyork.us)|52.206.140.199|:443... connected.\n",
      "HTTP request sent, awaiting response... 200 OK\n",
      "Length: unspecified [text/csv]\n",
      "Saving to: ‘cost.csv’\n",
      "\n",
      "cost.csv                [ <=>                ] 145.91K  --.-KB/s    in 0.09s   \n",
      "\n",
      "2022-05-23 18:13:01 (1.63 MB/s) - ‘cost.csv’ saved [149411]\n",
      "\n"
     ]
    }
   ],
   "source": [
    "!wget -O cost.csv https://data.cityofnewyork.us/resource/bug8-9f3g.csv"
   ]
  },
  {
   "cell_type": "code",
   "execution_count": 104,
   "id": "f5d8330a",
   "metadata": {},
   "outputs": [],
   "source": [
    "pd.set_option('display.max_columns', 100)"
   ]
  },
  {
   "cell_type": "code",
   "execution_count": 7,
   "id": "a151bc0c",
   "metadata": {},
   "outputs": [],
   "source": [
    "import pandas as pd"
   ]
  },
  {
   "cell_type": "code",
   "execution_count": 8,
   "id": "f4e13f2c",
   "metadata": {},
   "outputs": [],
   "source": [
    "data = pd.read_csv('cost.csv')"
   ]
  },
  {
   "cell_type": "code",
   "execution_count": 105,
   "id": "d3b2f0ac",
   "metadata": {},
   "outputs": [
    {
     "data": {
      "text/html": [
       "<div>\n",
       "<style scoped>\n",
       "    .dataframe tbody tr th:only-of-type {\n",
       "        vertical-align: middle;\n",
       "    }\n",
       "\n",
       "    .dataframe tbody tr th {\n",
       "        vertical-align: top;\n",
       "    }\n",
       "\n",
       "    .dataframe thead th {\n",
       "        text-align: right;\n",
       "    }\n",
       "</style>\n",
       "<table border=\"1\" class=\"dataframe\">\n",
       "  <thead>\n",
       "    <tr style=\"text-align: right;\">\n",
       "      <th></th>\n",
       "      <th>company_name</th>\n",
       "      <th>company_contact</th>\n",
       "      <th>company_email</th>\n",
       "      <th>company_phone</th>\n",
       "      <th>address</th>\n",
       "      <th>city</th>\n",
       "      <th>state</th>\n",
       "      <th>zip</th>\n",
       "      <th>industry</th>\n",
       "      <th>industry_descr</th>\n",
       "      <th>company_type</th>\n",
       "      <th>current_fulltime</th>\n",
       "      <th>job_created</th>\n",
       "      <th>job_retain</th>\n",
       "      <th>effective_date</th>\n",
       "      <th>total_savings</th>\n",
       "      <th>savings_from_beginning</th>\n",
       "      <th>borough</th>\n",
       "      <th>latitude</th>\n",
       "      <th>longitude</th>\n",
       "      <th>community_board</th>\n",
       "      <th>council_district</th>\n",
       "      <th>census_tract</th>\n",
       "      <th>bin</th>\n",
       "      <th>bbl</th>\n",
       "      <th>nta</th>\n",
       "    </tr>\n",
       "  </thead>\n",
       "  <tbody>\n",
       "    <tr>\n",
       "      <th>0</th>\n",
       "      <td>1 State Street</td>\n",
       "      <td>David Neiburg</td>\n",
       "      <td>eskoblo@energyspec.com</td>\n",
       "      <td>7186779077</td>\n",
       "      <td>1114 Avenue J</td>\n",
       "      <td>Brooklyn</td>\n",
       "      <td>NY</td>\n",
       "      <td>11230</td>\n",
       "      <td>Commercial</td>\n",
       "      <td>35 story building</td>\n",
       "      <td>LMEP</td>\n",
       "      <td>NaN</td>\n",
       "      <td>NaN</td>\n",
       "      <td>NaN</td>\n",
       "      <td>2005-03-04T00:00:00.000</td>\n",
       "      <td>0.00</td>\n",
       "      <td>349.78</td>\n",
       "      <td>Brooklyn</td>\n",
       "      <td>40.624784</td>\n",
       "      <td>-73.964920</td>\n",
       "      <td>314.0</td>\n",
       "      <td>44.0</td>\n",
       "      <td>534.0</td>\n",
       "      <td>3179818.0</td>\n",
       "      <td>3.067130e+09</td>\n",
       "      <td>Midwood</td>\n",
       "    </tr>\n",
       "    <tr>\n",
       "      <th>1</th>\n",
       "      <td>100 Church LLC</td>\n",
       "      <td>Edward A. Carroll</td>\n",
       "      <td>NaN</td>\n",
       "      <td>2125663000</td>\n",
       "      <td>100 Church Street</td>\n",
       "      <td>NY</td>\n",
       "      <td>NY</td>\n",
       "      <td>10007</td>\n",
       "      <td>Commercial</td>\n",
       "      <td>21 Floors</td>\n",
       "      <td>LMEP</td>\n",
       "      <td>NaN</td>\n",
       "      <td>NaN</td>\n",
       "      <td>NaN</td>\n",
       "      <td>2008-04-02T00:00:00.000</td>\n",
       "      <td>136578.20</td>\n",
       "      <td>4423698.05</td>\n",
       "      <td>New York</td>\n",
       "      <td>40.712968</td>\n",
       "      <td>-74.009490</td>\n",
       "      <td>101.0</td>\n",
       "      <td>1.0</td>\n",
       "      <td>21.0</td>\n",
       "      <td>1001409.0</td>\n",
       "      <td>1.001250e+09</td>\n",
       "      <td>SoHo-TriBeCa-Civic Center-Little Italy</td>\n",
       "    </tr>\n",
       "    <tr>\n",
       "      <th>2</th>\n",
       "      <td>100 Wall Investments</td>\n",
       "      <td>Jerry Branam</td>\n",
       "      <td>NaN</td>\n",
       "      <td>2122487160</td>\n",
       "      <td>96 Wall Street</td>\n",
       "      <td>New York</td>\n",
       "      <td>NY</td>\n",
       "      <td>10005</td>\n",
       "      <td>Landlord</td>\n",
       "      <td>NaN</td>\n",
       "      <td>LMEP</td>\n",
       "      <td>1238.0</td>\n",
       "      <td>NaN</td>\n",
       "      <td>NaN</td>\n",
       "      <td>2015-01-05T00:00:00.000</td>\n",
       "      <td>302959.40</td>\n",
       "      <td>1814542.62</td>\n",
       "      <td>New York</td>\n",
       "      <td>40.705052</td>\n",
       "      <td>-74.007199</td>\n",
       "      <td>101.0</td>\n",
       "      <td>1.0</td>\n",
       "      <td>7.0</td>\n",
       "      <td>1000875.0</td>\n",
       "      <td>1.000380e+09</td>\n",
       "      <td>Battery Park City-Lower Manhattan</td>\n",
       "    </tr>\n",
       "    <tr>\n",
       "      <th>3</th>\n",
       "      <td>1-10 Bush Terminal Owner LP</td>\n",
       "      <td>Andrew Kimball</td>\n",
       "      <td>akimball@industrycity.com</td>\n",
       "      <td>3474178429</td>\n",
       "      <td>220 36th St, Suite 2A</td>\n",
       "      <td>Brooklyn</td>\n",
       "      <td>NY</td>\n",
       "      <td>11232</td>\n",
       "      <td>Landlord</td>\n",
       "      <td>Special Eligible Premises for eligible businesses</td>\n",
       "      <td>ECSP</td>\n",
       "      <td>25.0</td>\n",
       "      <td>NaN</td>\n",
       "      <td>NaN</td>\n",
       "      <td>2020-02-03T00:00:00.000</td>\n",
       "      <td>2159.67</td>\n",
       "      <td>6755.31</td>\n",
       "      <td>Brooklyn</td>\n",
       "      <td>40.656061</td>\n",
       "      <td>-74.007334</td>\n",
       "      <td>307.0</td>\n",
       "      <td>38.0</td>\n",
       "      <td>2.0</td>\n",
       "      <td>3398687.0</td>\n",
       "      <td>3.006950e+09</td>\n",
       "      <td>Sunset Park West</td>\n",
       "    </tr>\n",
       "    <tr>\n",
       "      <th>4</th>\n",
       "      <td>120 Broadway Acquisitions JV, LLC (Ldmk)</td>\n",
       "      <td>Carl Letich</td>\n",
       "      <td>clettich@silvprop.com</td>\n",
       "      <td>2124064020</td>\n",
       "      <td>120 Broadway</td>\n",
       "      <td>New York</td>\n",
       "      <td>NY</td>\n",
       "      <td>10271</td>\n",
       "      <td>Commercial</td>\n",
       "      <td>NaN</td>\n",
       "      <td>LMEP</td>\n",
       "      <td>2699.0</td>\n",
       "      <td>NaN</td>\n",
       "      <td>NaN</td>\n",
       "      <td>2017-06-30T00:00:00.000</td>\n",
       "      <td>922407.32</td>\n",
       "      <td>3293055.08</td>\n",
       "      <td>New York</td>\n",
       "      <td>40.708546</td>\n",
       "      <td>-74.011041</td>\n",
       "      <td>101.0</td>\n",
       "      <td>1.0</td>\n",
       "      <td>7.0</td>\n",
       "      <td>1001026.0</td>\n",
       "      <td>1.000478e+09</td>\n",
       "      <td>Battery Park City-Lower Manhattan</td>\n",
       "    </tr>\n",
       "  </tbody>\n",
       "</table>\n",
       "</div>"
      ],
      "text/plain": [
       "                               company_name    company_contact  \\\n",
       "0                            1 State Street      David Neiburg   \n",
       "1                            100 Church LLC  Edward A. Carroll   \n",
       "2                      100 Wall Investments       Jerry Branam   \n",
       "3               1-10 Bush Terminal Owner LP     Andrew Kimball   \n",
       "4  120 Broadway Acquisitions JV, LLC (Ldmk)        Carl Letich   \n",
       "\n",
       "               company_email company_phone                address      city  \\\n",
       "0     eskoblo@energyspec.com    7186779077          1114 Avenue J  Brooklyn   \n",
       "1                        NaN    2125663000      100 Church Street        NY   \n",
       "2                        NaN    2122487160         96 Wall Street  New York   \n",
       "3  akimball@industrycity.com    3474178429  220 36th St, Suite 2A  Brooklyn   \n",
       "4      clettich@silvprop.com    2124064020           120 Broadway  New York   \n",
       "\n",
       "  state    zip    industry                                     industry_descr  \\\n",
       "0    NY  11230  Commercial                                  35 story building   \n",
       "1    NY  10007  Commercial                                          21 Floors   \n",
       "2    NY  10005    Landlord                                                NaN   \n",
       "3    NY  11232    Landlord  Special Eligible Premises for eligible businesses   \n",
       "4    NY  10271  Commercial                                                NaN   \n",
       "\n",
       "  company_type  current_fulltime  job_created  job_retain  \\\n",
       "0         LMEP               NaN          NaN         NaN   \n",
       "1         LMEP               NaN          NaN         NaN   \n",
       "2         LMEP            1238.0          NaN         NaN   \n",
       "3         ECSP              25.0          NaN         NaN   \n",
       "4         LMEP            2699.0          NaN         NaN   \n",
       "\n",
       "            effective_date  total_savings  savings_from_beginning   borough  \\\n",
       "0  2005-03-04T00:00:00.000           0.00                  349.78  Brooklyn   \n",
       "1  2008-04-02T00:00:00.000      136578.20              4423698.05  New York   \n",
       "2  2015-01-05T00:00:00.000      302959.40              1814542.62  New York   \n",
       "3  2020-02-03T00:00:00.000        2159.67                 6755.31  Brooklyn   \n",
       "4  2017-06-30T00:00:00.000      922407.32              3293055.08  New York   \n",
       "\n",
       "    latitude  longitude  community_board  council_district  census_tract  \\\n",
       "0  40.624784 -73.964920            314.0              44.0         534.0   \n",
       "1  40.712968 -74.009490            101.0               1.0          21.0   \n",
       "2  40.705052 -74.007199            101.0               1.0           7.0   \n",
       "3  40.656061 -74.007334            307.0              38.0           2.0   \n",
       "4  40.708546 -74.011041            101.0               1.0           7.0   \n",
       "\n",
       "         bin           bbl                                     nta  \n",
       "0  3179818.0  3.067130e+09                                 Midwood  \n",
       "1  1001409.0  1.001250e+09  SoHo-TriBeCa-Civic Center-Little Italy  \n",
       "2  1000875.0  1.000380e+09       Battery Park City-Lower Manhattan  \n",
       "3  3398687.0  3.006950e+09                        Sunset Park West  \n",
       "4  1001026.0  1.000478e+09       Battery Park City-Lower Manhattan  "
      ]
     },
     "execution_count": 105,
     "metadata": {},
     "output_type": "execute_result"
    }
   ],
   "source": [
    "data.head()"
   ]
  },
  {
   "cell_type": "markdown",
   "id": "1db72eb7",
   "metadata": {},
   "source": [
    "## Question 1: How many differen companies are presented in the data set?"
   ]
  },
  {
   "cell_type": "code",
   "execution_count": 10,
   "id": "d7599ac9",
   "metadata": {},
   "outputs": [],
   "source": [
    "num_company = data.company_name.value_counts().count()"
   ]
  },
  {
   "cell_type": "code",
   "execution_count": 11,
   "id": "49f7a93a",
   "metadata": {},
   "outputs": [
    {
     "data": {
      "text/markdown": [
       "There are 439 different companies presented in the data set"
      ],
      "text/plain": [
       "<IPython.core.display.Markdown object>"
      ]
     },
     "execution_count": 11,
     "metadata": {},
     "output_type": "execute_result"
    }
   ],
   "source": [
    "from IPython.display import Markdown as md\n",
    "md(f\"There are {num_company} different companies presented in the data set\")"
   ]
  },
  {
   "cell_type": "markdown",
   "id": "cb495e58",
   "metadata": {},
   "source": [
    "## Question 2: What is the total number of jobs created of businesses in Queens?"
   ]
  },
  {
   "cell_type": "code",
   "execution_count": 23,
   "id": "ec55c26a",
   "metadata": {},
   "outputs": [],
   "source": [
    "job_queens = data.groupby('borough').job_created.sum().Queens"
   ]
  },
  {
   "cell_type": "code",
   "execution_count": 24,
   "id": "9c8b97f3",
   "metadata": {},
   "outputs": [
    {
     "data": {
      "text/markdown": [
       "THe total number of jobs created by businesses in Queens is 102.0"
      ],
      "text/plain": [
       "<IPython.core.display.Markdown object>"
      ]
     },
     "execution_count": 24,
     "metadata": {},
     "output_type": "execute_result"
    }
   ],
   "source": [
    "md(f\"The total number of jobs created by businesses in Queens is {job_queens}\")"
   ]
  },
  {
   "cell_type": "markdown",
   "id": "5fef42eb",
   "metadata": {},
   "source": [
    "## Question 3: How many different unique email domains names are there in the data set?"
   ]
  },
  {
   "cell_type": "code",
   "execution_count": 59,
   "id": "15498a80",
   "metadata": {},
   "outputs": [],
   "source": [
    "splited = data.company_email.str.split(pat = '@', expand = True)\n"
   ]
  },
  {
   "cell_type": "code",
   "execution_count": 64,
   "id": "26c574b7",
   "metadata": {},
   "outputs": [],
   "source": [
    "splited = splited.rename(columns = {0: 'name', 1 : 'domain'})"
   ]
  },
  {
   "cell_type": "code",
   "execution_count": 66,
   "id": "64893e81",
   "metadata": {},
   "outputs": [],
   "source": [
    "unique_email_domain = splited.domain.value_counts().count()"
   ]
  },
  {
   "cell_type": "code",
   "execution_count": 68,
   "id": "1a64fb24",
   "metadata": {},
   "outputs": [
    {
     "data": {
      "text/markdown": [
       "THere are 356 different unique email domains in hte data set"
      ],
      "text/plain": [
       "<IPython.core.display.Markdown object>"
      ]
     },
     "execution_count": 68,
     "metadata": {},
     "output_type": "execute_result"
    }
   ],
   "source": [
    "md(f'THere are {unique_email_domain} different unique email domains in the data set') "
   ]
  },
  {
   "cell_type": "markdown",
   "id": "d25a24be",
   "metadata": {},
   "source": [
    "## Question 4: Considering only NTAs with at least 5 listed businesses, what is the average total savings and the total jobs created for each NTA?"
   ]
  },
  {
   "cell_type": "code",
   "execution_count": 99,
   "id": "4863e6df",
   "metadata": {},
   "outputs": [],
   "source": [
    "# Sort the count of NTA\n",
    "NTA = data.groupby('nta', as_index = False).company_name.count().sort_values(by = 'company_name', ascending = False)"
   ]
  },
  {
   "cell_type": "code",
   "execution_count": 109,
   "id": "d2647e3f",
   "metadata": {},
   "outputs": [],
   "source": [
    "# Get the nta with count equal or greater than 5\n",
    "NTA_gt_5 = NTA[NTA.company_name >= 5]"
   ]
  },
  {
   "cell_type": "code",
   "execution_count": 124,
   "id": "fa3c35b1",
   "metadata": {},
   "outputs": [],
   "source": [
    "mean_saving = data[data.nta.isin(NTA_gt_5.nta)].groupby('nta').total_savings.mean()"
   ]
  },
  {
   "cell_type": "code",
   "execution_count": 125,
   "id": "b13d7eaa",
   "metadata": {},
   "outputs": [],
   "source": [
    "total_job = data[data.nta.isin(NTA_gt_5.nta)].groupby('nta').job_created.sum()"
   ]
  },
  {
   "cell_type": "code",
   "execution_count": 137,
   "id": "c776778c",
   "metadata": {},
   "outputs": [],
   "source": [
    "nta_final = pd.DataFrame({'mean_saving' : mean_saving, 'total_job' : total_job}, index = mean_saving.index).reset_index()"
   ]
  },
  {
   "cell_type": "markdown",
   "id": "f6227a24",
   "metadata": {},
   "source": [
    "## Question 5: Save your result for the previous question as a CSV file.\n"
   ]
  },
  {
   "cell_type": "code",
   "execution_count": 144,
   "id": "3cdc98c3",
   "metadata": {},
   "outputs": [],
   "source": [
    "nta_final.to_csv('nta_final.csv', index = False)"
   ]
  },
  {
   "cell_type": "code",
   "execution_count": 145,
   "id": "e6ba5389",
   "metadata": {},
   "outputs": [
    {
     "name": "stdout",
     "output_type": "stream",
     "text": [
      "cost.csv\t README.md\t   sample_notebook.ipynb\r\n",
      "cost_save.ipynb  requirements.txt  test2.txt\r\n",
      "nta_final.csv\t runtime.txt\t   test.txt\r\n"
     ]
    }
   ],
   "source": [
    "!ls"
   ]
  }
 ],
 "metadata": {
  "celltoolbar": "Raw Cell Format",
  "kernelspec": {
   "display_name": "Python 3 (ipykernel)",
   "language": "python",
   "name": "python3"
  },
  "language_info": {
   "codemirror_mode": {
    "name": "ipython",
    "version": 3
   },
   "file_extension": ".py",
   "mimetype": "text/x-python",
   "name": "python",
   "nbconvert_exporter": "python",
   "pygments_lexer": "ipython3",
   "version": "3.9.12"
  }
 },
 "nbformat": 4,
 "nbformat_minor": 5
}

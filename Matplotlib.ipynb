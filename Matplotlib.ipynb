{
 "cells": [
  {
   "cell_type": "code",
   "execution_count": 60,
   "id": "5439ea72",
   "metadata": {},
   "outputs": [],
   "source": [
    "import numpy as np"
   ]
  },
  {
   "cell_type": "code",
   "execution_count": 9,
   "id": "c58e7368",
   "metadata": {},
   "outputs": [],
   "source": [
    "import pandas as pd\n",
    "pd.set_option('display.max_columns', 100)"
   ]
  },
  {
   "cell_type": "code",
   "execution_count": 10,
   "id": "1ee3fab9",
   "metadata": {},
   "outputs": [],
   "source": [
    "import matplotlib.pyplot as plt"
   ]
  },
  {
   "cell_type": "code",
   "execution_count": 12,
   "id": "59187d47",
   "metadata": {},
   "outputs": [],
   "source": [
    "%matplotlib inline"
   ]
  },
  {
   "cell_type": "code",
   "execution_count": 13,
   "id": "a77a95b3",
   "metadata": {},
   "outputs": [],
   "source": [
    "data = pd.read_csv('cost.csv', parse_dates = ['effective_date'])"
   ]
  },
  {
   "cell_type": "code",
   "execution_count": 15,
   "id": "333c2667",
   "metadata": {},
   "outputs": [
    {
     "data": {
      "text/html": [
       "<div>\n",
       "<style scoped>\n",
       "    .dataframe tbody tr th:only-of-type {\n",
       "        vertical-align: middle;\n",
       "    }\n",
       "\n",
       "    .dataframe tbody tr th {\n",
       "        vertical-align: top;\n",
       "    }\n",
       "\n",
       "    .dataframe thead th {\n",
       "        text-align: right;\n",
       "    }\n",
       "</style>\n",
       "<table border=\"1\" class=\"dataframe\">\n",
       "  <thead>\n",
       "    <tr style=\"text-align: right;\">\n",
       "      <th></th>\n",
       "      <th>company_name</th>\n",
       "      <th>company_contact</th>\n",
       "      <th>company_email</th>\n",
       "      <th>company_phone</th>\n",
       "      <th>address</th>\n",
       "      <th>city</th>\n",
       "      <th>state</th>\n",
       "      <th>zip</th>\n",
       "      <th>industry</th>\n",
       "      <th>industry_descr</th>\n",
       "      <th>company_type</th>\n",
       "      <th>current_fulltime</th>\n",
       "      <th>job_created</th>\n",
       "      <th>job_retain</th>\n",
       "      <th>effective_date</th>\n",
       "      <th>total_savings</th>\n",
       "      <th>savings_from_beginning</th>\n",
       "      <th>borough</th>\n",
       "      <th>latitude</th>\n",
       "      <th>longitude</th>\n",
       "      <th>community_board</th>\n",
       "      <th>council_district</th>\n",
       "      <th>census_tract</th>\n",
       "      <th>bin</th>\n",
       "      <th>bbl</th>\n",
       "      <th>nta</th>\n",
       "    </tr>\n",
       "  </thead>\n",
       "  <tbody>\n",
       "    <tr>\n",
       "      <th>0</th>\n",
       "      <td>1 State Street</td>\n",
       "      <td>David Neiburg</td>\n",
       "      <td>eskoblo@energyspec.com</td>\n",
       "      <td>7186779077</td>\n",
       "      <td>1114 Avenue J</td>\n",
       "      <td>Brooklyn</td>\n",
       "      <td>NY</td>\n",
       "      <td>11230</td>\n",
       "      <td>Commercial</td>\n",
       "      <td>35 story building</td>\n",
       "      <td>LMEP</td>\n",
       "      <td>NaN</td>\n",
       "      <td>NaN</td>\n",
       "      <td>NaN</td>\n",
       "      <td>2005-03-04</td>\n",
       "      <td>0.00</td>\n",
       "      <td>349.78</td>\n",
       "      <td>Brooklyn</td>\n",
       "      <td>40.624784</td>\n",
       "      <td>-73.964920</td>\n",
       "      <td>314.0</td>\n",
       "      <td>44.0</td>\n",
       "      <td>534.0</td>\n",
       "      <td>3179818.0</td>\n",
       "      <td>3.067130e+09</td>\n",
       "      <td>Midwood</td>\n",
       "    </tr>\n",
       "    <tr>\n",
       "      <th>1</th>\n",
       "      <td>100 Church LLC</td>\n",
       "      <td>Edward A. Carroll</td>\n",
       "      <td>NaN</td>\n",
       "      <td>2125663000</td>\n",
       "      <td>100 Church Street</td>\n",
       "      <td>NY</td>\n",
       "      <td>NY</td>\n",
       "      <td>10007</td>\n",
       "      <td>Commercial</td>\n",
       "      <td>21 Floors</td>\n",
       "      <td>LMEP</td>\n",
       "      <td>NaN</td>\n",
       "      <td>NaN</td>\n",
       "      <td>NaN</td>\n",
       "      <td>2008-04-02</td>\n",
       "      <td>136578.20</td>\n",
       "      <td>4423698.05</td>\n",
       "      <td>New York</td>\n",
       "      <td>40.712968</td>\n",
       "      <td>-74.009490</td>\n",
       "      <td>101.0</td>\n",
       "      <td>1.0</td>\n",
       "      <td>21.0</td>\n",
       "      <td>1001409.0</td>\n",
       "      <td>1.001250e+09</td>\n",
       "      <td>SoHo-TriBeCa-Civic Center-Little Italy</td>\n",
       "    </tr>\n",
       "    <tr>\n",
       "      <th>2</th>\n",
       "      <td>100 Wall Investments</td>\n",
       "      <td>Jerry Branam</td>\n",
       "      <td>NaN</td>\n",
       "      <td>2122487160</td>\n",
       "      <td>96 Wall Street</td>\n",
       "      <td>New York</td>\n",
       "      <td>NY</td>\n",
       "      <td>10005</td>\n",
       "      <td>Landlord</td>\n",
       "      <td>NaN</td>\n",
       "      <td>LMEP</td>\n",
       "      <td>1238.0</td>\n",
       "      <td>NaN</td>\n",
       "      <td>NaN</td>\n",
       "      <td>2015-01-05</td>\n",
       "      <td>302959.40</td>\n",
       "      <td>1814542.62</td>\n",
       "      <td>New York</td>\n",
       "      <td>40.705052</td>\n",
       "      <td>-74.007199</td>\n",
       "      <td>101.0</td>\n",
       "      <td>1.0</td>\n",
       "      <td>7.0</td>\n",
       "      <td>1000875.0</td>\n",
       "      <td>1.000380e+09</td>\n",
       "      <td>Battery Park City-Lower Manhattan</td>\n",
       "    </tr>\n",
       "    <tr>\n",
       "      <th>3</th>\n",
       "      <td>1-10 Bush Terminal Owner LP</td>\n",
       "      <td>Andrew Kimball</td>\n",
       "      <td>akimball@industrycity.com</td>\n",
       "      <td>3474178429</td>\n",
       "      <td>220 36th St, Suite 2A</td>\n",
       "      <td>Brooklyn</td>\n",
       "      <td>NY</td>\n",
       "      <td>11232</td>\n",
       "      <td>Landlord</td>\n",
       "      <td>Special Eligible Premises for eligible businesses</td>\n",
       "      <td>ECSP</td>\n",
       "      <td>25.0</td>\n",
       "      <td>NaN</td>\n",
       "      <td>NaN</td>\n",
       "      <td>2020-02-03</td>\n",
       "      <td>2159.67</td>\n",
       "      <td>6755.31</td>\n",
       "      <td>Brooklyn</td>\n",
       "      <td>40.656061</td>\n",
       "      <td>-74.007334</td>\n",
       "      <td>307.0</td>\n",
       "      <td>38.0</td>\n",
       "      <td>2.0</td>\n",
       "      <td>3398687.0</td>\n",
       "      <td>3.006950e+09</td>\n",
       "      <td>Sunset Park West</td>\n",
       "    </tr>\n",
       "    <tr>\n",
       "      <th>4</th>\n",
       "      <td>120 Broadway Acquisitions JV, LLC (Ldmk)</td>\n",
       "      <td>Carl Letich</td>\n",
       "      <td>clettich@silvprop.com</td>\n",
       "      <td>2124064020</td>\n",
       "      <td>120 Broadway</td>\n",
       "      <td>New York</td>\n",
       "      <td>NY</td>\n",
       "      <td>10271</td>\n",
       "      <td>Commercial</td>\n",
       "      <td>NaN</td>\n",
       "      <td>LMEP</td>\n",
       "      <td>2699.0</td>\n",
       "      <td>NaN</td>\n",
       "      <td>NaN</td>\n",
       "      <td>2017-06-30</td>\n",
       "      <td>922407.32</td>\n",
       "      <td>3293055.08</td>\n",
       "      <td>New York</td>\n",
       "      <td>40.708546</td>\n",
       "      <td>-74.011041</td>\n",
       "      <td>101.0</td>\n",
       "      <td>1.0</td>\n",
       "      <td>7.0</td>\n",
       "      <td>1001026.0</td>\n",
       "      <td>1.000478e+09</td>\n",
       "      <td>Battery Park City-Lower Manhattan</td>\n",
       "    </tr>\n",
       "  </tbody>\n",
       "</table>\n",
       "</div>"
      ],
      "text/plain": [
       "                               company_name    company_contact  \\\n",
       "0                            1 State Street      David Neiburg   \n",
       "1                            100 Church LLC  Edward A. Carroll   \n",
       "2                      100 Wall Investments       Jerry Branam   \n",
       "3               1-10 Bush Terminal Owner LP     Andrew Kimball   \n",
       "4  120 Broadway Acquisitions JV, LLC (Ldmk)        Carl Letich   \n",
       "\n",
       "               company_email company_phone                address      city  \\\n",
       "0     eskoblo@energyspec.com    7186779077          1114 Avenue J  Brooklyn   \n",
       "1                        NaN    2125663000      100 Church Street        NY   \n",
       "2                        NaN    2122487160         96 Wall Street  New York   \n",
       "3  akimball@industrycity.com    3474178429  220 36th St, Suite 2A  Brooklyn   \n",
       "4      clettich@silvprop.com    2124064020           120 Broadway  New York   \n",
       "\n",
       "  state    zip    industry                                     industry_descr  \\\n",
       "0    NY  11230  Commercial                                  35 story building   \n",
       "1    NY  10007  Commercial                                          21 Floors   \n",
       "2    NY  10005    Landlord                                                NaN   \n",
       "3    NY  11232    Landlord  Special Eligible Premises for eligible businesses   \n",
       "4    NY  10271  Commercial                                                NaN   \n",
       "\n",
       "  company_type  current_fulltime  job_created  job_retain effective_date  \\\n",
       "0         LMEP               NaN          NaN         NaN     2005-03-04   \n",
       "1         LMEP               NaN          NaN         NaN     2008-04-02   \n",
       "2         LMEP            1238.0          NaN         NaN     2015-01-05   \n",
       "3         ECSP              25.0          NaN         NaN     2020-02-03   \n",
       "4         LMEP            2699.0          NaN         NaN     2017-06-30   \n",
       "\n",
       "   total_savings  savings_from_beginning   borough   latitude  longitude  \\\n",
       "0           0.00                  349.78  Brooklyn  40.624784 -73.964920   \n",
       "1      136578.20              4423698.05  New York  40.712968 -74.009490   \n",
       "2      302959.40              1814542.62  New York  40.705052 -74.007199   \n",
       "3        2159.67                 6755.31  Brooklyn  40.656061 -74.007334   \n",
       "4      922407.32              3293055.08  New York  40.708546 -74.011041   \n",
       "\n",
       "   community_board  council_district  census_tract        bin           bbl  \\\n",
       "0            314.0              44.0         534.0  3179818.0  3.067130e+09   \n",
       "1            101.0               1.0          21.0  1001409.0  1.001250e+09   \n",
       "2            101.0               1.0           7.0  1000875.0  1.000380e+09   \n",
       "3            307.0              38.0           2.0  3398687.0  3.006950e+09   \n",
       "4            101.0               1.0           7.0  1001026.0  1.000478e+09   \n",
       "\n",
       "                                      nta  \n",
       "0                                 Midwood  \n",
       "1  SoHo-TriBeCa-Civic Center-Little Italy  \n",
       "2       Battery Park City-Lower Manhattan  \n",
       "3                        Sunset Park West  \n",
       "4       Battery Park City-Lower Manhattan  "
      ]
     },
     "execution_count": 15,
     "metadata": {},
     "output_type": "execute_result"
    }
   ],
   "source": [
    "data.head()"
   ]
  },
  {
   "cell_type": "markdown",
   "id": "378ece87",
   "metadata": {},
   "source": [
    "## Scatter plot of jobs created versus average savings."
   ]
  },
  {
   "cell_type": "code",
   "execution_count": 52,
   "id": "32d56aed",
   "metadata": {},
   "outputs": [],
   "source": [
    "nta_final = pd.read_csv('nta_final.csv')"
   ]
  },
  {
   "cell_type": "code",
   "execution_count": 77,
   "id": "69e7ebbc",
   "metadata": {},
   "outputs": [
    {
     "data": {
      "image/png": "[encoded data removed]",
      "text/plain": [
       "<Figure size 1584x504 with 2 Axes>"
      ]
     },
     "metadata": {
      "needs_background": "light"
     },
     "output_type": "display_data"
    }
   ],
   "source": [
    "fig, (ax1, ax2) = plt.subplots(1,2, figsize = (22, 7))\n",
    "ax1.scatter(nta_final.iloc[:,2], nta_final.iloc[:,1])\n",
    "ax2.scatter(nta_final.iloc[:,2], np.log(nta_final.iloc[:,1]))\n",
    "ax1.set_xlabel('Total job created')\n",
    "ax1.set_ylabel('Average total savings')\n",
    "ax2.set_xlabel('Total job created')\n",
    "ax2.set_ylabel('Logrithmic scale of average total savings')\n",
    "ax1.set_title('Scatter plot')\n",
    "fig.suptitle('Scatter plot')\n",
    "plt.show()"
   ]
  },
  {
   "cell_type": "markdown",
   "id": "e4c255f9",
   "metadata": {},
   "source": [
    "## Histogram of the log of the average total savings"
   ]
  },
  {
   "cell_type": "code",
   "execution_count": 84,
   "id": "ac78ea41",
   "metadata": {},
   "outputs": [
    {
     "data": {
      "image/png": "[encoded data removed]",
      "text/plain": [
       "<Figure size 432x288 with 1 Axes>"
      ]
     },
     "metadata": {
      "needs_background": "light"
     },
     "output_type": "display_data"
    }
   ],
   "source": [
    "log = np.log(nta_final.iloc[:,1])\n",
    "log.plot.hist(bins = 12, alpha = 0.5)\n",
    "plt.xlabel('Log of average total savings')\n",
    "plt.suptitle('Histogram of the log of the average total savings')\n",
    "plt.show()"
   ]
  },
  {
   "cell_type": "markdown",
   "id": "d68a6398",
   "metadata": {},
   "source": [
    "## line plot of the total jobs created for each month"
   ]
  },
  {
   "cell_type": "code",
   "execution_count": 111,
   "id": "40bbc484",
   "metadata": {},
   "outputs": [],
   "source": [
    "data = data.reset_index(drop = True)\n",
    "data['date_by_month']= data.effective_date.dt.month"
   ]
  },
  {
   "cell_type": "code",
   "execution_count": 119,
   "id": "79766406",
   "metadata": {},
   "outputs": [
    {
     "data": {
      "image/png": "[encoded data removed]",
      "text/plain": [
       "<Figure size 432x288 with 1 Axes>"
      ]
     },
     "metadata": {
      "needs_background": "light"
     },
     "output_type": "display_data"
    }
   ],
   "source": [
    "data.groupby('date_by_month').job_created.sum().plot()\n",
    "plt.ylabel('job_created')\n",
    "plt.xlabel('Months')\n",
    "plt.suptitle('Total job created for each month')\n",
    "plt.show()\n"
   ]
  }
 ],
 "metadata": {
  "kernelspec": {
   "display_name": "Python 3 (ipykernel)",
   "language": "python",
   "name": "python3"
  },
  "language_info": {
   "codemirror_mode": {
    "name": "ipython",
    "version": 3
   },
   "file_extension": ".py",
   "mimetype": "text/x-python",
   "name": "python",
   "nbconvert_exporter": "python",
   "pygments_lexer": "ipython3",
   "version": "3.9.12"
  }
 },
 "nbformat": 4,
 "nbformat_minor": 5
}
